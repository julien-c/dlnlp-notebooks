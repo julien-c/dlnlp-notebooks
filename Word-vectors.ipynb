{
 "cells": [
  {
   "cell_type": "code",
   "execution_count": 68,
   "metadata": {
    "collapsed": false
   },
   "outputs": [],
   "source": [
    "import numpy as np\n",
    "import matplotlib.pyplot as plt\n",
    "import os"
   ]
  },
  {
   "cell_type": "code",
   "execution_count": 69,
   "metadata": {
    "collapsed": false
   },
   "outputs": [],
   "source": [
    "with open(os.path.expanduser('~/Desktop/glove/vocab.txt'), 'r') as f:\n",
    "    words = [l.split(\" \")[0] for l in f.readlines()]\n",
    "with open(os.path.expanduser('~/Desktop/glove/vectors.txt'), 'r') as f:\n",
    "    vectors = {}\n",
    "    for line in f:\n",
    "        vals = line.rstrip().split(' ')\n",
    "        vectors[vals[0]] = [float(x) for x in vals[1:]]\n",
    "\n",
    "vocab_size = len(words)\n",
    "vocab = {w: idx for idx, w in enumerate(words)}\n",
    "ivocab = {idx: w for idx, w in enumerate(words)}"
   ]
  },
  {
   "cell_type": "code",
   "execution_count": 70,
   "metadata": {
    "collapsed": false
   },
   "outputs": [
    {
     "data": {
      "text/plain": [
       "[-1.270634,\n",
       " -1.371758,\n",
       " -0.155301,\n",
       " -0.734929,\n",
       " 0.762848,\n",
       " 0.093264,\n",
       " -0.86396,\n",
       " 1.63197,\n",
       " 0.404635,\n",
       " -1.036025,\n",
       " 0.097703,\n",
       " 0.684548,\n",
       " -1.082088,\n",
       " 0.802138,\n",
       " -0.580773,\n",
       " -0.372686,\n",
       " 0.248194,\n",
       " -1.279849,\n",
       " 0.269252,\n",
       " 0.243024,\n",
       " -0.384882,\n",
       " -1.346638,\n",
       " -0.163882,\n",
       " 0.567187,\n",
       " -0.638676,\n",
       " 1.36756,\n",
       " -0.209535,\n",
       " -0.370294,\n",
       " -0.081099,\n",
       " -0.904354,\n",
       " -0.620381,\n",
       " 0.423498,\n",
       " -0.301094,\n",
       " 0.938167,\n",
       " 0.680792,\n",
       " 0.138859,\n",
       " -1.45697,\n",
       " -1.809224,\n",
       " 0.432652,\n",
       " -1.121142,\n",
       " -0.54818,\n",
       " 1.02054,\n",
       " -0.056026,\n",
       " -1.275986,\n",
       " -0.778276,\n",
       " -1.144919,\n",
       " -1.132704,\n",
       " -1.643316,\n",
       " 0.24586,\n",
       " 0.35026]"
      ]
     },
     "execution_count": 70,
     "metadata": {},
     "output_type": "execute_result"
    }
   ],
   "source": [
    "vectors[\"the\"]"
   ]
  },
  {
   "cell_type": "code",
   "execution_count": 71,
   "metadata": {
    "collapsed": false
   },
   "outputs": [],
   "source": [
    "vector_dim = len(vectors[\"the\"])"
   ]
  },
  {
   "cell_type": "code",
   "execution_count": 72,
   "metadata": {
    "collapsed": false
   },
   "outputs": [
    {
     "data": {
      "text/plain": [
       "(71290, 50)"
      ]
     },
     "execution_count": 72,
     "metadata": {},
     "output_type": "execute_result"
    }
   ],
   "source": [
    "(vocab_size, vector_dim)"
   ]
  },
  {
   "cell_type": "code",
   "execution_count": 73,
   "metadata": {
    "collapsed": false
   },
   "outputs": [],
   "source": [
    "W = np.zeros((vocab_size, vector_dim))"
   ]
  },
  {
   "cell_type": "code",
   "execution_count": 74,
   "metadata": {
    "collapsed": false
   },
   "outputs": [],
   "source": [
    "for word, v in vectors.items():\n",
    "    if word != \"<unk>\":\n",
    "        W[vocab[word], :] = v"
   ]
  },
  {
   "cell_type": "code",
   "execution_count": 75,
   "metadata": {
    "collapsed": false
   },
   "outputs": [
    {
     "data": {
      "text/plain": [
       "array([[-1.270634, -1.371758, -0.155301, ..., -1.643316,  0.24586 ,\n",
       "         0.35026 ],\n",
       "       [-0.944978, -1.033484, -0.886546, ..., -0.470221,  0.729986,\n",
       "         0.723744],\n",
       "       [-0.61335 , -1.187265, -0.815057, ..., -1.218295,  1.581128,\n",
       "         0.820589],\n",
       "       ..., \n",
       "       [ 0.123158,  0.915781, -0.088426, ...,  0.015115, -0.423518,\n",
       "         0.045726],\n",
       "       [ 0.18476 ,  0.571675,  0.224117, ...,  0.321857, -0.406372,\n",
       "        -0.185974],\n",
       "       [ 0.281698,  0.421401,  0.1825  , ...,  0.165644, -0.256237,\n",
       "        -0.151717]])"
      ]
     },
     "execution_count": 75,
     "metadata": {},
     "output_type": "execute_result"
    }
   ],
   "source": [
    "W"
   ]
  },
  {
   "cell_type": "code",
   "execution_count": 76,
   "metadata": {
    "collapsed": false
   },
   "outputs": [
    {
     "data": {
      "text/plain": [
       "array([[  1.61451076e+00,   1.88172001e+00,   2.41184006e-02, ...,\n",
       "          2.70048748e+00,   6.04471396e-02,   1.22682068e-01],\n",
       "       [  8.92983420e-01,   1.06808918e+00,   7.85963810e-01, ...,\n",
       "          2.21107789e-01,   5.32879560e-01,   5.23805378e-01],\n",
       "       [  3.76198222e-01,   1.40959818e+00,   6.64317913e-01, ...,\n",
       "          1.48424271e+00,   2.49996575e+00,   6.73366307e-01],\n",
       "       ..., \n",
       "       [  1.51678930e-02,   8.38654840e-01,   7.81915748e-03, ...,\n",
       "          2.28463225e-04,   1.79367496e-01,   2.09086708e-03],\n",
       "       [  3.41362576e-02,   3.26812306e-01,   5.02284297e-02, ...,\n",
       "          1.03591928e-01,   1.65138202e-01,   3.45863287e-02],\n",
       "       [  7.93537632e-02,   1.77578803e-01,   3.33062500e-02, ...,\n",
       "          2.74379347e-02,   6.56574002e-02,   2.30180481e-02]])"
      ]
     },
     "execution_count": 76,
     "metadata": {},
     "output_type": "execute_result"
    }
   ],
   "source": [
    "W ** 2"
   ]
  },
  {
   "cell_type": "markdown",
   "metadata": {},
   "source": [
    "### Normalize each word vector to unit variance"
   ]
  },
  {
   "cell_type": "code",
   "execution_count": 77,
   "metadata": {
    "collapsed": true
   },
   "outputs": [],
   "source": [
    "d = (np.sum(W ** 2, axis=1) ** (0.5))"
   ]
  },
  {
   "cell_type": "code",
   "execution_count": 78,
   "metadata": {
    "collapsed": false
   },
   "outputs": [
    {
     "data": {
      "text/plain": [
       "array([ 6.11604186,  6.19377429,  5.80526845, ...,  2.75225699,\n",
       "        2.08972776,  1.96771713])"
      ]
     },
     "execution_count": 78,
     "metadata": {},
     "output_type": "execute_result"
    }
   ],
   "source": [
    "d"
   ]
  },
  {
   "cell_type": "code",
   "execution_count": 79,
   "metadata": {
    "collapsed": false
   },
   "outputs": [
    {
     "data": {
      "text/plain": [
       "(71290,)"
      ]
     },
     "execution_count": 79,
     "metadata": {},
     "output_type": "execute_result"
    }
   ],
   "source": [
    "d.shape"
   ]
  },
  {
   "cell_type": "code",
   "execution_count": 80,
   "metadata": {
    "collapsed": true
   },
   "outputs": [],
   "source": [
    "W = (W.T / d).T"
   ]
  },
  {
   "cell_type": "code",
   "execution_count": 81,
   "metadata": {
    "collapsed": false
   },
   "outputs": [],
   "source": [
    "d = (np.sum(W ** 2, axis=1) ** (0.5))"
   ]
  },
  {
   "cell_type": "code",
   "execution_count": 82,
   "metadata": {
    "collapsed": false
   },
   "outputs": [
    {
     "data": {
      "text/plain": [
       "array([ 1.,  1.,  1., ...,  1.,  1.,  1.])"
      ]
     },
     "execution_count": 82,
     "metadata": {},
     "output_type": "execute_result"
    }
   ],
   "source": [
    "d"
   ]
  },
  {
   "cell_type": "code",
   "execution_count": 83,
   "metadata": {
    "collapsed": true
   },
   "outputs": [],
   "source": [
    "## Ok we have our normalized vectors now."
   ]
  },
  {
   "cell_type": "markdown",
   "metadata": {},
   "source": [
    "### Distance"
   ]
  },
  {
   "cell_type": "code",
   "execution_count": 84,
   "metadata": {
    "collapsed": true
   },
   "outputs": [],
   "source": [
    "def closestWords(term):\n",
    "    if not term in vocab:\n",
    "        print \"not in dictionary\"\n",
    "        return\n",
    "    vec = W[vocab[term], :]\n",
    "    print vec.shape\n",
    "    distance= np.dot(W, vec)\n",
    "    print distance\n",
    "    a = np.argsort(-distance)[:50]\n",
    "    print a\n",
    "    for x in a:\n",
    "        print \"%s %s\" % (ivocab[x], distance[x])"
   ]
  },
  {
   "cell_type": "code",
   "execution_count": 85,
   "metadata": {
    "collapsed": false
   },
   "outputs": [
    {
     "name": "stdout",
     "output_type": "stream",
     "text": [
      "(50,)\n",
      "[ 0.32785536  0.31525338  0.36405729 ...,  0.06156692 -0.35948664\n",
      " -0.28579622]\n",
      "[ 1054   302  5365 10441 13575   633 36323   937  1717 12253   338   164\n",
      "  3220   817  6965   631   737   538   927  1392   985  4804  1359 10462\n",
      "  2779  1530 16066   438  1624   842 12306   394   804  4606   525   503\n",
      "  1299    34  2890  4729  2854  3619   547  4895  4548  2799 27716 23229\n",
      "   491   514]\n",
      "paris 1.0\n",
      "france 0.675231146771\n",
      "venice 0.670542444527\n",
      "louvre 0.670468046161\n",
      "commune 0.655548212766\n",
      "la 0.654409509431\n",
      "conservatoire 0.652108480034\n",
      "rome 0.638820479885\n",
      "opened 0.637928109641\n",
      "gaulle 0.630140185327\n",
      "london 0.627291175695\n",
      "de 0.623660415346\n",
      "vienna 0.61477983163\n",
      "moved 0.610550601243\n",
      "leipzig 0.603353219896\n",
      "re 0.600595379227\n",
      "founded 0.596699299928\n",
      "august 0.592169227719\n",
      "museum 0.591649504405\n",
      "le 0.584956135297\n",
      "returned 0.583665177133\n",
      "stayed 0.581261932444\n",
      "berlin 0.580595974168\n",
      "versailles 0.580584417951\n",
      "buried 0.579259647567\n",
      "completed 0.578432576021\n",
      "provence 0.577046320008\n",
      "march 0.576476713262\n",
      "entered 0.575531484418\n",
      "italy 0.574869189406\n",
      "bologna 0.573892245944\n",
      "near 0.572271070867\n",
      "spain 0.569452278275\n",
      "munich 0.569356870269\n",
      "november 0.566691282212\n",
      "charles 0.566480496553\n",
      "met 0.565995687149\n",
      "at 0.565535139563\n",
      "en 0.563019248808\n",
      "madrid 0.560198527221\n",
      "moscow 0.558718142645\n",
      "returning 0.558691604701\n",
      "october 0.555661125416\n",
      "amsterdam 0.546465610646\n",
      "opens 0.540129663177\n",
      "visited 0.540091005498\n",
      "montparnasse 0.540061055512\n",
      "rouen 0.539311447745\n",
      "july 0.536798892951\n",
      "june 0.53646234715\n"
     ]
    }
   ],
   "source": [
    "closestWords(\"paris\")"
   ]
  },
  {
   "cell_type": "markdown",
   "metadata": {},
   "source": [
    "### Analogies"
   ]
  },
  {
   "cell_type": "code",
   "execution_count": 90,
   "metadata": {
    "collapsed": false
   },
   "outputs": [],
   "source": [
    "terms = \"paris france italy rome berlin germany\".split(\" \")"
   ]
  },
  {
   "cell_type": "code",
   "execution_count": 96,
   "metadata": {
    "collapsed": false
   },
   "outputs": [],
   "source": [
    "xs = []\n",
    "ys = []\n",
    "for term in terms:\n",
    "    proj = W[vocab[term], :2]\n",
    "    xs.append(proj[0])\n",
    "    ys.append(proj[1])"
   ]
  },
  {
   "cell_type": "code",
   "execution_count": 101,
   "metadata": {
    "collapsed": false
   },
   "outputs": [],
   "source": [
    "def projection(xs, ys, labels):\n",
    "    fig, ax = plt.subplots()\n",
    "\n",
    "    ax.scatter(xs, ys)\n",
    "    for i, txt in enumerate(labels):\n",
    "        ax.annotate(txt, (xs[i], ys[i]))\n",
    "\n",
    "    plt.show()\n"
   ]
  },
  {
   "cell_type": "code",
   "execution_count": 103,
   "metadata": {
    "collapsed": false
   },
   "outputs": [
    {
     "data": {
      "image/png": "[encoded data removed]",
      "text/plain": [
       "<matplotlib.figure.Figure at 0x11f0f9890>"
      ]
     },
     "metadata": {},
     "output_type": "display_data"
    }
   ],
   "source": [
    "projection(xs, ys, terms)"
   ]
  },
  {
   "cell_type": "code",
   "execution_count": null,
   "metadata": {
    "collapsed": true
   },
   "outputs": [],
   "source": []
  }
 ],
 "metadata": {
  "anaconda-cloud": {},
  "kernelspec": {
   "display_name": "Python [conda env:stanford]",
   "language": "python",
   "name": "conda-env-stanford-py"
  },
  "language_info": {
   "codemirror_mode": {
    "name": "ipython",
    "version": 2
   },
   "file_extension": ".py",
   "mimetype": "text/x-python",
   "name": "python",
   "nbconvert_exporter": "python",
   "pygments_lexer": "ipython2",
   "version": "2.7.12"
  }
 },
 "nbformat": 4,
 "nbformat_minor": 1
}
